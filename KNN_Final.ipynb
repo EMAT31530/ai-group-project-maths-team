{
 "cells": [
  {
   "cell_type": "code",
   "execution_count": 2,
   "metadata": {},
   "outputs": [],
   "source": [
    "import numpy\n",
    "import matplotlib.pyplot as plt\n",
    "\n",
    "from keras.models import model_from_json\n",
    "from keras.optimizers import SGD\n",
    "\n",
    "from sklearn.neighbors import KNeighborsClassifier"
   ]
  },
  {
   "cell_type": "code",
   "execution_count": 3,
   "metadata": {},
   "outputs": [
    {
     "name": "stdout",
     "output_type": "stream",
     "text": [
      "Loaded encoder from disk\n"
     ]
    }
   ],
   "source": [
    "# load json and create model\n",
    "json_file = open('encoder.json', 'r')\n",
    "loaded_encoder_json = json_file.read()\n",
    "json_file.close()\n",
    "loaded_encoder = model_from_json(loaded_encoder_json)\n",
    "\n",
    "# load weights into new model\n",
    "loaded_encoder.load_weights(\"encoder.h5\")\n",
    "print(\"Loaded encoder from disk\")\n",
    "\n",
    "LR = numpy.load('encoder_LR.npy')"
   ]
  },
  {
   "cell_type": "code",
   "execution_count": 11,
   "metadata": {},
   "outputs": [],
   "source": [
    "loaded_encoder.compile(loss='mse', optimizer=SGD(learning_rate = LR), metrics=['mse'])"
   ]
  },
  {
   "cell_type": "code",
   "execution_count": 13,
   "metadata": {},
   "outputs": [
    {
     "name": "stdout",
     "output_type": "stream",
     "text": [
      "40/40 [==============================] - 1s 12ms/step - loss: 0.0000e+00 - mse: 0.0000e+00\n"
     ]
    },
    {
     "data": {
      "text/plain": [
       "[0.0, 0.0]"
      ]
     },
     "execution_count": 13,
     "metadata": {},
     "output_type": "execute_result"
    }
   ],
   "source": [
    "loaded_encoder.evaluate(X_test)"
   ]
  },
  {
   "cell_type": "code",
   "execution_count": null,
   "metadata": {},
   "outputs": [],
   "source": []
  },
  {
   "cell_type": "code",
   "execution_count": 6,
   "metadata": {},
   "outputs": [],
   "source": [
    "X_train = numpy.load('X_train.npy')\n",
    "Y_train = numpy.load('Y_train.npy')\n",
    "X_val = numpy.load('X_val.npy')\n",
    "Y_val = numpy.load('Y_val.npy')\n",
    "X_test = numpy.load('X_test.npy')\n",
    "Y_test = numpy.load('Y_test.npy')"
   ]
  },
  {
   "cell_type": "code",
   "execution_count": null,
   "metadata": {},
   "outputs": [],
   "source": [
    "# KNN without encoder\n",
    "\n",
    "a = []\n",
    "for i in range(1,26):\n",
    "    model = KNeighborsClassifier(n_neighbors=i)\n",
    "    model.fit(X_train[:100],Y_train[:100])\n",
    "    score_wo_encoder = model.score(X_val[:100], Y_val[:100])\n",
    "    a.append((score_wo_encoder)*100)\n",
    "    print(score_wo_encoder*100)"
   ]
  },
  {
   "cell_type": "markdown",
   "metadata": {},
   "source": [
    "Once we have decided the optimal number of neighbours we will run that model on our test data"
   ]
  },
  {
   "cell_type": "code",
   "execution_count": null,
   "metadata": {},
   "outputs": [],
   "source": [
    "plt.plot(range(1,26),a)\n",
    "plt.xlabel('K Value')\n",
    "plt.ylabel('Score (without encoder)')"
   ]
  },
  {
   "cell_type": "code",
   "execution_count": null,
   "metadata": {},
   "outputs": [],
   "source": [
    "# KNN with encoder\n",
    "\n",
    "b = []\n",
    "for i in range(1,26):\n",
    "    model = KNeighborsClassifier(n_neighbors=i)\n",
    "    model.fit(encoder(X_train[:100]),Y_train[:100])\n",
    "    score_w_encoder = model.score(encoder(X_val[:100]), Y_val[:100])\n",
    "    b.append((score_w_encoder)*100)\n",
    "    print(score_w_encoder*100)"
   ]
  },
  {
   "cell_type": "code",
   "execution_count": null,
   "metadata": {},
   "outputs": [],
   "source": [
    "plt.plot(range(1,26),b)\n",
    "plt.xlabel('K Value')\n",
    "plt.ylabel('Score (without encoder)')"
   ]
  },
  {
   "cell_type": "code",
   "execution_count": null,
   "metadata": {},
   "outputs": [],
   "source": []
  }
 ],
 "metadata": {
  "kernelspec": {
   "display_name": "Python 3",
   "language": "python",
   "name": "python3"
  },
  "language_info": {
   "codemirror_mode": {
    "name": "ipython",
    "version": 3
   },
   "file_extension": ".py",
   "mimetype": "text/x-python",
   "name": "python",
   "nbconvert_exporter": "python",
   "pygments_lexer": "ipython3",
   "version": "3.7.4"
  }
 },
 "nbformat": 4,
 "nbformat_minor": 2
}
