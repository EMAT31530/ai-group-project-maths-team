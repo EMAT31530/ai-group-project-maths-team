{
 "cells": [
  {
   "cell_type": "code",
   "execution_count": 1,
   "metadata": {},
   "outputs": [],
   "source": [
    "import numpy as np\n",
    "import pandas as pd\n",
    "df = pd.read_csv('news.csv')\n",
    "df = df.drop(df.columns[0],axis=1)\n",
    "df['news'] = df['title'] + ' ' + df['text']\n",
    "convert_to_binary = {'REAL':1,'FAKE':0}\n",
    "df['label'] = df['label'].map(convert_to_binary)\n",
    "df = df.drop([df.columns[0],df.columns[1]],axis=1)\n",
    "df = df.reindex(columns=['news','label'])\n",
    "\n",
    "import nltk\n",
    "from nltk.tokenize import word_tokenize\n",
    "from nltk.corpus import stopwords\n",
    "from nltk.stem import WordNetLemmatizer\n",
    "\n",
    "import re\n",
    "\n",
    "# Creating a list of stopwords (common words which are not important to the overall meaning of the article).\n",
    "stop_words = stopwords.words('english')\n",
    "stop_words.extend(['the','it','in'])\n",
    "\n",
    "# Lemmatization is the process of reducing words to their basic form, e.g. dogs->dog, running->run.\n",
    "WNL = WordNetLemmatizer()\n",
    "\n",
    "# We now iterate through each article in the dataset.\n",
    "for index, row in df.iterrows():\n",
    "    filtered_article = ''\n",
    "    article = row['news']\n",
    "    # Removing all punctuation using RegEx.\n",
    "    article = re.sub(r'[^\\w\\s]', '', article)\n",
    "    # Tokenization: changing the article from one continuous string to a list of tokens (words).\n",
    "    words = [word.lower() for word in nltk.word_tokenize(article)]\n",
    "    # Removing stopwords.\n",
    "    words = [word for word in words if not word in stop_words]\n",
    "    # Lemmatization and concatenating the words back into a single string.\n",
    "    words_lemmatized = []\n",
    "    for word in words:\n",
    "        if word == 'us':\n",
    "            words_lemmatized.append(word)\n",
    "        else:\n",
    "            words_lemmatized.append(WNL.lemmatize(word))\n",
    "    filtered_article = \" \".join([word for word in words_lemmatized])\n",
    "    \n",
    "    # Replace the article with the new filtered version.\n",
    "    df.loc[index, 'news'] = filtered_article\n",
    "    \n",
    "df_input = df['news']\n",
    "df_output = df['label']\n",
    "\n",
    "from sklearn.feature_extraction.text import TfidfVectorizer\n",
    "vectorizer = TfidfVectorizer()\n",
    "tf_idf_matrix = vectorizer.fit_transform(df_input)\n",
    "\n",
    "x = tf_idf_matrix\n",
    "labels = df_output#.values"
   ]
  },
  {
   "cell_type": "code",
   "execution_count": 2,
   "metadata": {},
   "outputs": [],
   "source": [
    "# setting random seed (for consistent results & choosing operating system)\n",
    "\n",
    "from numpy.random import seed\n",
    "from tensorflow.random import set_seed\n",
    "seed(0)\n",
    "set_seed(0)\n",
    "import os\n",
    "os.environ['TF_DETERMINISTIC_OPS'] = '1'"
   ]
  },
  {
   "cell_type": "code",
   "execution_count": 3,
   "metadata": {},
   "outputs": [],
   "source": [
    "from sklearn.model_selection import train_test_split\n",
    "\n",
    "x_train, x_test, y_train, y_test = train_test_split(x, labels, test_size=0.2, random_state = 42)\n",
    "x_train, x_val, y_train, y_val = train_test_split(x_train, y_train, test_size=0.25, random_state = 42)"
   ]
  },
  {
   "cell_type": "code",
   "execution_count": 4,
   "metadata": {},
   "outputs": [],
   "source": [
    "import sklearn\n",
    "import sklearn.metrics\n",
    "from sklearn.neighbors import KNeighborsClassifier\n",
    "import matplotlib.pyplot as plt\n",
    "\n",
    "\n",
    "def knn_k_value(k_values, X_train, Y_train, X_val, Y_val):\n",
    "    accuracy = []\n",
    "    for i in k_values:\n",
    "        KNN = KNeighborsClassifier(n_neighbors=i)\n",
    "        KNN.fit(X_train,Y_train)\n",
    "        Y_predict = KNN.predict(X_val)\n",
    "        acc = sklearn.metrics.accuracy_score(Y_val, Y_predict)\n",
    "        accuracy.append(acc*100)\n",
    "        print(\"K = \" + str(i) + \" : Accuracy = \" + str(acc*100))\n",
    "    plt.plot(k_values, accuracy)\n",
    "    plt.xlabel('K Value')\n",
    "    plt.ylabel('Accuracy (%)')\n",
    "    return plt"
   ]
  },
  {
   "cell_type": "code",
   "execution_count": 5,
   "metadata": {},
   "outputs": [
    {
     "name": "stdout",
     "output_type": "stream",
     "text": [
      "K = 5 : Accuracy = 82.08366219415943\n",
      "K = 25 : Accuracy = 79.47908445146015\n",
      "K = 50 : Accuracy = 77.34806629834254\n",
      "K = 100 : Accuracy = 74.26992896606156\n",
      "K = 150 : Accuracy = 73.9542225730071\n",
      "K = 200 : Accuracy = 72.45461720599842\n",
      "K = 300 : Accuracy = 69.29755327545382\n",
      "K = 400 : Accuracy = 67.40331491712708\n",
      "K = 500 : Accuracy = 65.35122336227307\n",
      "K = 600 : Accuracy = 63.141278610891874\n",
      "K = 750 : Accuracy = 60.45777426992897\n",
      "K = 1000 : Accuracy = 56.98500394632992\n"
     ]
    },
    {
     "data": {
      "text/plain": [
       "<module 'matplotlib.pyplot' from '/Users/gus/opt/anaconda3/envs/encoder/lib/python3.7/site-packages/matplotlib/pyplot.py'>"
      ]
     },
     "execution_count": 5,
     "metadata": {},
     "output_type": "execute_result"
    },
    {
     "data": {
      "image/png": "[encoded data removed]",
      "text/plain": [
       "<Figure size 432x288 with 1 Axes>"
      ]
     },
     "metadata": {
      "needs_background": "light"
     },
     "output_type": "display_data"
    }
   ],
   "source": [
    "k_values = [5,25,50,100,150,200,300,400,500,600,750,1000]\n",
    "knn_k_value(k_values, x_train, y_train, x_val, y_val)"
   ]
  },
  {
   "cell_type": "code",
   "execution_count": 6,
   "metadata": {},
   "outputs": [
    {
     "name": "stdout",
     "output_type": "stream",
     "text": [
      "K = 3 : Accuracy = 83.5043409629045\n",
      "K = 6 : Accuracy = 83.97790055248619\n",
      "K = 9 : Accuracy = 82.3993685872139\n",
      "K = 12 : Accuracy = 81.9258089976322\n",
      "K = 15 : Accuracy = 80.97868981846882\n",
      "K = 18 : Accuracy = 81.68902920284135\n",
      "K = 21 : Accuracy = 79.55801104972376\n",
      "K = 24 : Accuracy = 80.50513022888714\n",
      "K = 26 : Accuracy = 79.7947908445146\n"
     ]
    },
    {
     "data": {
      "text/plain": [
       "<module 'matplotlib.pyplot' from '/Users/gus/opt/anaconda3/envs/encoder/lib/python3.7/site-packages/matplotlib/pyplot.py'>"
      ]
     },
     "execution_count": 6,
     "metadata": {},
     "output_type": "execute_result"
    },
    {
     "data": {
      "image/png": "[encoded data removed]",
      "text/plain": [
       "<Figure size 432x288 with 1 Axes>"
      ]
     },
     "metadata": {
      "needs_background": "light"
     },
     "output_type": "display_data"
    }
   ],
   "source": [
    "k_values = [3,6,9,12,15,18,21,24,26]\n",
    "knn_k_value(k_values, x_train, y_train, x_val, y_val)"
   ]
  },
  {
   "cell_type": "code",
   "execution_count": 7,
   "metadata": {},
   "outputs": [
    {
     "name": "stdout",
     "output_type": "stream",
     "text": [
      "K = 3 : Accuracy = 83.5043409629045\n",
      "K = 4 : Accuracy = 85.0828729281768\n",
      "K = 5 : Accuracy = 82.08366219415943\n",
      "K = 6 : Accuracy = 83.97790055248619\n",
      "K = 7 : Accuracy = 81.8468823993686\n",
      "K = 8 : Accuracy = 83.89897395422258\n",
      "K = 9 : Accuracy = 82.3993685872139\n",
      "K = 10 : Accuracy = 82.9518547750592\n",
      "K = 11 : Accuracy = 81.13654301499605\n",
      "K = 12 : Accuracy = 81.9258089976322\n"
     ]
    },
    {
     "data": {
      "text/plain": [
       "<module 'matplotlib.pyplot' from '/Users/gus/opt/anaconda3/envs/encoder/lib/python3.7/site-packages/matplotlib/pyplot.py'>"
      ]
     },
     "execution_count": 7,
     "metadata": {},
     "output_type": "execute_result"
    },
    {
     "data": {
      "image/png": "[encoded data removed]",
      "text/plain": [
       "<Figure size 432x288 with 1 Axes>"
      ]
     },
     "metadata": {
      "needs_background": "light"
     },
     "output_type": "display_data"
    }
   ],
   "source": [
    "k_values = [3,4,5,6,7,8,9,10,11,12]\n",
    "knn_k_value(k_values, x_train, y_train, x_val, y_val)"
   ]
  },
  {
   "cell_type": "markdown",
   "metadata": {},
   "source": [
    "Choose K = 6 (make argument)"
   ]
  },
  {
   "cell_type": "code",
   "execution_count": 8,
   "metadata": {},
   "outputs": [
    {
     "name": "stdout",
     "output_type": "stream",
     "text": [
      "[[498 130]\n",
      " [ 55 584]]\n",
      "              precision    recall  f1-score   support\n",
      "\n",
      "           0       0.90      0.79      0.84       628\n",
      "           1       0.82      0.91      0.86       639\n",
      "\n",
      "    accuracy                           0.85      1267\n",
      "   macro avg       0.86      0.85      0.85      1267\n",
      "weighted avg       0.86      0.85      0.85      1267\n",
      "\n"
     ]
    }
   ],
   "source": [
    "from sklearn.metrics import confusion_matrix, classification_report \n",
    "\n",
    "KNN = KNeighborsClassifier(n_neighbors=6)\n",
    "KNN.fit(x_train,y_train)\n",
    "y_predict = KNN.predict(x_test)\n",
    "\n",
    "print(confusion_matrix(y_test,y_predict))\n",
    "print(classification_report(y_test,y_predict))\n",
    "#This is the classification report and confusion matrix for the the K Nearest Neighbours Algorithm"
   ]
  },
  {
   "cell_type": "code",
   "execution_count": 9,
   "metadata": {},
   "outputs": [
    {
     "name": "stdout",
     "output_type": "stream",
     "text": [
      "CPU times: user 3.57 ms, sys: 1.82 ms, total: 5.39 ms\n",
      "Wall time: 4.19 ms\n"
     ]
    },
    {
     "data": {
      "text/plain": [
       "KNeighborsClassifier(n_neighbors=6)"
      ]
     },
     "execution_count": 9,
     "metadata": {},
     "output_type": "execute_result"
    }
   ],
   "source": [
    "%time KNN.fit(x_train,y_train)"
   ]
  },
  {
   "cell_type": "code",
   "execution_count": 10,
   "metadata": {},
   "outputs": [],
   "source": [
    "x_2 = tf_idf_matrix.toarray()\n",
    "labels_2 = df_output.values\n",
    "\n",
    "x_train_2, x_test_2, y_train_2, y_test_2 = train_test_split(x_2, labels_2, test_size=0.2, random_state = 42)\n",
    "x_train_2, x_val_2, y_train_2, y_val_2 = train_test_split(x_train, y_train, test_size=0.25, random_state = 42)"
   ]
  },
  {
   "cell_type": "code",
   "execution_count": 12,
   "metadata": {},
   "outputs": [
    {
     "name": "stdout",
     "output_type": "stream",
     "text": [
      "0.8492501973164956\n"
     ]
    }
   ],
   "source": [
    "KNN_2 = KNeighborsClassifier(n_neighbors=6)\n",
    "KNN_2.fit(x_train_2,y_train_2)\n",
    "y_predict_2 = KNN_2.predict(x_test_2)\n",
    "\n",
    "acc = sklearn.metrics.accuracy_score(y_test_2, y_predict_2)\n",
    "print(acc)"
   ]
  },
  {
   "cell_type": "code",
   "execution_count": 13,
   "metadata": {},
   "outputs": [],
   "source": [
    "# The top news story on the BBC\n",
    "bbc_news_article = '''The furlough scheme will be extended until the end of September by the chancellor in the Budget later.\n",
    "Rishi Sunak said the scheme - which pays 80% of employees' wages for the hours they cannot work in the pandemic - would help millions through \"the challenging months ahead\".\n",
    "Some 600,000 more self-employed people will also be eligible for government help as access to grants is widened.\n",
    "But Labour said the support schemes should have been extended \"months ago\".\n",
    "Mr Sunak will outline a three-point plan to support people through the coming months, rebuild the economy and \"fix\" the public finances in the wake of the pandemic when he delivers his statement to the Commons at about 12:30 GMT.\n",
    "But he has warned of tough economic times ahead and there are reports that he plans to raise some taxes.'''\n",
    "\n",
    "# Here's a fake news article from the New York Mag\n",
    "fake_article = '''Twelve days out from judgment day in an election in which he continues to trail badly, President Trump continues to hammer home an issue that will surely resonate with that small slice of still-undecided voters: his supposedly unfair treatment at the hands of CBS’s Lesley Stahl. After two days of promising to release unedited footage of an as-yet-unaired 60 Minutes interview, during which he walked out prematurely because he was upset with Stahl’s line of questioning, the president finally followed through on Thursday. Throughout the interview, Stahl presses Trump on issues from health care (the president says he hopes the Supreme Court strikes down Obamacare, a politically toxic position) to his derogatory comments about Anthony Fauci (Trump claims he was misinterpreted) to his false claims that the Obama campaign spied on him. The tone is of an adversarial back-and-forth, well within normal journalistic bounds. Nevertheless, Trump continuously claims that Joe Biden hasn’t been given similar treatment by CBS and cuts the proceedings short.'''"
   ]
  },
  {
   "cell_type": "code",
   "execution_count": 14,
   "metadata": {},
   "outputs": [],
   "source": [
    "def article_preprocessor (article):\n",
    "    filtered_article = ''\n",
    "    article = re.sub(r'[^\\w\\s]', '', article)\n",
    "    words = [word.lower() for word in nltk.word_tokenize(article)]\n",
    "    words = [word for word in words if not word in stop_words]\n",
    "    words_lemmatized = []\n",
    "    for word in words:\n",
    "        if word == 'us':\n",
    "            words_lemmatized.append(word)\n",
    "        else:\n",
    "            words_lemmatized.append(WNL.lemmatize(word))\n",
    "    filtered_article = \" \".join([word for word in words_lemmatized])\n",
    "    return filtered_article"
   ]
  },
  {
   "cell_type": "code",
   "execution_count": 15,
   "metadata": {},
   "outputs": [],
   "source": [
    "def KNN_classifier (list_of_articles,k):\n",
    "    \n",
    "    # Pre-process the articles\n",
    "    articles_pp = [article_preprocessor(article) for article in list_of_articles]\n",
    "    # Append new articles to original list of articles (df_input)\n",
    "    new_input = df_input.append(pd.Series(articles_pp))\n",
    "    tf_idf_matrix = vectorizer.fit_transform(new_input)\n",
    "    orig_data_matrix = tf_idf_matrix[:len(df_input)]\n",
    "    new_data_matrix = tf_idf_matrix[len(df_input):]\n",
    "    x_train, x_test, y_train, y_test = train_test_split(orig_data_matrix, df_output, random_state=42)\n",
    "    KNN = KNeighborsClassifier(n_neighbors=k)\n",
    "    KNN.fit(x_train, y_train)\n",
    "    accuracy = KNN.score(x_test,y_test)\n",
    "    # The model can now classify the new data\n",
    "    predictions = KNN.predict(new_data_matrix)\n",
    "    return predictions"
   ]
  },
  {
   "cell_type": "code",
   "execution_count": 16,
   "metadata": {},
   "outputs": [
    {
     "data": {
      "text/plain": [
       "array([1, 1])"
      ]
     },
     "execution_count": 16,
     "metadata": {},
     "output_type": "execute_result"
    }
   ],
   "source": [
    "articles = [bbc_news_article,fake_article]\n",
    "KNN_classifier(articles,6)"
   ]
  },
  {
   "cell_type": "markdown",
   "metadata": {},
   "source": [
    "## Autoencoder:"
   ]
  },
  {
   "cell_type": "code",
   "execution_count": 17,
   "metadata": {},
   "outputs": [
    {
     "name": "stdout",
     "output_type": "stream",
     "text": [
      "example point's binary outcome: 1\n",
      "same example point's one hot encoded vector: [0. 1.]\n"
     ]
    }
   ],
   "source": [
    "# 'hot encoding' the data (go from binary 0 or 1 to [1,0] and [0,1] respectively)\n",
    "\n",
    "from keras.utils import to_categorical\n",
    "print(\"example point's binary outcome:\", labels[100])\n",
    "labels = to_categorical(labels)\n",
    "print(\"same example point's one hot encoded vector:\", labels[100])"
   ]
  },
  {
   "cell_type": "code",
   "execution_count": 18,
   "metadata": {},
   "outputs": [],
   "source": [
    "x_train, x_test, y_train, y_test = train_test_split(x, labels, test_size=0.2)\n",
    "x_train, x_val, y_train, y_val = train_test_split(x_train, y_train, test_size=0.25)"
   ]
  },
  {
   "cell_type": "code",
   "execution_count": 19,
   "metadata": {},
   "outputs": [],
   "source": [
    "# scaling the training and validation data features. Removes mean and makes the datas variance = 1. \n",
    "# learns the correct transformation on the training data and then applies to the test data.\n",
    "\n",
    "from sklearn.preprocessing import StandardScaler\n",
    "\n",
    "scaler = StandardScaler()\n",
    "x_train = scaler.fit_transform(x_train.toarray())\n",
    "\n",
    "x_val = scaler.transform(x_val.toarray())\n",
    "x_test = scaler.transform(x_test.toarray())"
   ]
  },
  {
   "cell_type": "code",
   "execution_count": 20,
   "metadata": {},
   "outputs": [],
   "source": [
    "np.save('X_train_e',x_train)\n",
    "np.save('Y_train_e',y_train)\n",
    "np.save('X_val_e',x_val)\n",
    "np.save('Y_val_e',y_val)\n",
    "np.save('X_test_e',x_test)\n",
    "np.save('Y_test_e',y_test)"
   ]
  },
  {
   "cell_type": "markdown",
   "metadata": {},
   "source": [
    "Loading the Autoencoder:"
   ]
  },
  {
   "cell_type": "code",
   "execution_count": 21,
   "metadata": {},
   "outputs": [],
   "source": [
    "from keras.models import model_from_json\n",
    "from keras.optimizers import SGD\n",
    "import numpy as np\n",
    "from sklearn.neighbors import KNeighborsClassifier\n",
    "import sklearn.metrics"
   ]
  },
  {
   "cell_type": "code",
   "execution_count": 22,
   "metadata": {},
   "outputs": [
    {
     "name": "stdout",
     "output_type": "stream",
     "text": [
      "Loaded encoder from disk\n"
     ]
    }
   ],
   "source": [
    "# load json and create model\n",
    "json_file = open('encoder.json', 'r')\n",
    "loaded_encoder_json = json_file.read()\n",
    "json_file.close()\n",
    "loaded_encoder = model_from_json(loaded_encoder_json)\n",
    "\n",
    "# load weights into new model\n",
    "loaded_encoder.load_weights(\"encoder.h5\")\n",
    "print(\"Loaded encoder from disk\")\n",
    "\n",
    "LR = np.load('encoder_LR.npy')"
   ]
  },
  {
   "cell_type": "code",
   "execution_count": 23,
   "metadata": {},
   "outputs": [],
   "source": [
    "loaded_encoder.compile(loss='mse', optimizer=SGD(learning_rate = LR), metrics=['mse'])"
   ]
  },
  {
   "cell_type": "code",
   "execution_count": 24,
   "metadata": {},
   "outputs": [],
   "source": [
    "def encoder(X_test):\n",
    "    return loaded_encoder.predict(X_test)"
   ]
  },
  {
   "cell_type": "code",
   "execution_count": 25,
   "metadata": {},
   "outputs": [],
   "source": [
    "def knn_acc_w_encoder(k_values, X_train, Y_train, X_val, Y_val):\n",
    "    accuracy = []\n",
    "    for i in k_values:\n",
    "        KNN = KNeighborsClassifier(n_neighbors=i)\n",
    "        KNN.fit(encoder(X_train),Y_train)\n",
    "        Y_predict = KNN.predict(encoder(X_val))\n",
    "        acc = sklearn.metrics.accuracy_score(Y_val, Y_predict)\n",
    "        accuracy.append(acc*100)\n",
    "        print(\"K = \" + str(i) + \" : Accuracy = \" + str(acc*100))\n",
    "    plt.plot(k_values, accuracy)\n",
    "    plt.xlabel('K Value')\n",
    "    plt.ylabel('Accuracy (%)')\n",
    "    return plt"
   ]
  },
  {
   "cell_type": "code",
   "execution_count": 26,
   "metadata": {},
   "outputs": [
    {
     "name": "stdout",
     "output_type": "stream",
     "text": [
      "K = 5 : Accuracy = 50.5130228887135\n",
      "K = 25 : Accuracy = 50.118389897395424\n",
      "K = 50 : Accuracy = 45.77742699289661\n",
      "K = 100 : Accuracy = 47.750591949486974\n",
      "K = 150 : Accuracy = 49.4869771112865\n",
      "K = 200 : Accuracy = 50.74980268350434\n",
      "K = 300 : Accuracy = 50.19731649565904\n",
      "K = 400 : Accuracy = 49.881610102604576\n",
      "K = 500 : Accuracy = 49.171270718232044\n",
      "K = 600 : Accuracy = 48.85556432517759\n",
      "K = 750 : Accuracy = 48.61878453038674\n",
      "K = 1000 : Accuracy = 47.19810576164167\n"
     ]
    },
    {
     "data": {
      "text/plain": [
       "<module 'matplotlib.pyplot' from '/Users/gus/opt/anaconda3/envs/encoder/lib/python3.7/site-packages/matplotlib/pyplot.py'>"
      ]
     },
     "execution_count": 26,
     "metadata": {},
     "output_type": "execute_result"
    },
    {
     "data": {
      "image/png": "[encoded data removed]",
      "text/plain": [
       "<Figure size 432x288 with 1 Axes>"
      ]
     },
     "metadata": {
      "needs_background": "light"
     },
     "output_type": "display_data"
    }
   ],
   "source": [
    "k_values = [5,25,50,100,150,200,300,400,500,600,750,1000]\n",
    "knn_acc_w_encoder(k_values, x_train, y_train, x_val, y_val)"
   ]
  },
  {
   "cell_type": "code",
   "execution_count": null,
   "metadata": {},
   "outputs": [],
   "source": []
  }
 ],
 "metadata": {
  "kernelspec": {
   "display_name": "Python 3",
   "language": "python",
   "name": "python3"
  },
  "language_info": {
   "codemirror_mode": {
    "name": "ipython",
    "version": 3
   },
   "file_extension": ".py",
   "mimetype": "text/x-python",
   "name": "python",
   "nbconvert_exporter": "python",
   "pygments_lexer": "ipython3",
   "version": "3.7.10"
  }
 },
 "nbformat": 4,
 "nbformat_minor": 2
}
