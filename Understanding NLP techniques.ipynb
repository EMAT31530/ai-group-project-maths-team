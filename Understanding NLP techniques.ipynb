{
 "cells": [
  {
   "cell_type": "markdown",
   "metadata": {},
   "source": [
    "# Understanding NLP techniques\n",
    "This is a draft notebook where I will play around with different NLP techniques to improve my understanding of certain functions that we will be using from the nltk package."
   ]
  },
  {
   "cell_type": "code",
   "execution_count": 5,
   "metadata": {},
   "outputs": [],
   "source": [
    "example1 = \"This is an example sentence. I'll try to remove stopwords and I'll try to remove punctuation!\""
   ]
  },
  {
   "cell_type": "code",
   "execution_count": 2,
   "metadata": {},
   "outputs": [],
   "source": [
    "import nltk"
   ]
  },
  {
   "cell_type": "markdown",
   "metadata": {},
   "source": [
    "We can use the functions sent_tokenize and word_tokenize to split the text into sentences or into words. Word_tokenize will be more useful to us."
   ]
  },
  {
   "cell_type": "code",
   "execution_count": 6,
   "metadata": {},
   "outputs": [
    {
     "name": "stdout",
     "output_type": "stream",
     "text": [
      "['This is an example sentence.', \"I'll try to remove stopwords and I'll try to remove punctuation!\"]\n",
      "['This', 'is', 'an', 'example', 'sentence', '.', 'I', \"'ll\", 'try', 'to', 'remove', 'stopwords', 'and', 'I', \"'ll\", 'try', 'to', 'remove', 'punctuation', '!']\n"
     ]
    }
   ],
   "source": [
    "from nltk.tokenize import sent_tokenize, word_tokenize\n",
    "print(sent_tokenize(example1))\n",
    "print(word_tokenize(example1))"
   ]
  },
  {
   "cell_type": "code",
   "execution_count": 8,
   "metadata": {},
   "outputs": [
    {
     "data": {
      "text/plain": [
       "['This',\n",
       " 'is',\n",
       " 'an',\n",
       " 'example',\n",
       " 'sentence',\n",
       " '.',\n",
       " 'I',\n",
       " \"'ll\",\n",
       " 'try',\n",
       " 'to',\n",
       " 'remove',\n",
       " 'stopwords',\n",
       " 'and',\n",
       " 'I',\n",
       " \"'ll\",\n",
       " 'try',\n",
       " 'to',\n",
       " 'remove',\n",
       " 'punctuation',\n",
       " '!']"
      ]
     },
     "execution_count": 8,
     "metadata": {},
     "output_type": "execute_result"
    }
   ],
   "source": [
    "example1_words = word_tokenize(example1)\n",
    "example1_words"
   ]
  },
  {
   "cell_type": "markdown",
   "metadata": {},
   "source": [
    "We can remove punctuation. The isalpha() function returns True if all characters in the string are alphabet letters."
   ]
  },
  {
   "cell_type": "code",
   "execution_count": 14,
   "metadata": {},
   "outputs": [
    {
     "data": {
      "text/plain": [
       "['This',\n",
       " 'is',\n",
       " 'an',\n",
       " 'example',\n",
       " 'sentence',\n",
       " 'I',\n",
       " 'try',\n",
       " 'to',\n",
       " 'remove',\n",
       " 'stopwords',\n",
       " 'and',\n",
       " 'I',\n",
       " 'try',\n",
       " 'to',\n",
       " 'remove',\n",
       " 'punctuation']"
      ]
     },
     "execution_count": 14,
     "metadata": {},
     "output_type": "execute_result"
    }
   ],
   "source": [
    "remove_punctuation = [word for word in example1_words if word.isalpha()]\n",
    "remove_punctuation"
   ]
  },
  {
   "cell_type": "code",
   "execution_count": 20,
   "metadata": {},
   "outputs": [
    {
     "data": {
      "text/plain": [
       "['this',\n",
       " 'is',\n",
       " 'an',\n",
       " 'example',\n",
       " 'sentence',\n",
       " 'i',\n",
       " 'try',\n",
       " 'to',\n",
       " 'remove',\n",
       " 'stopwords',\n",
       " 'and',\n",
       " 'i',\n",
       " 'try',\n",
       " 'to',\n",
       " 'remove',\n",
       " 'punctuation']"
      ]
     },
     "execution_count": 20,
     "metadata": {},
     "output_type": "execute_result"
    }
   ],
   "source": [
    "# make all words lower case\n",
    "remove_punctuation = [word.lower() for word in remove_punctuation]\n",
    "remove_punctuation"
   ]
  },
  {
   "cell_type": "markdown",
   "metadata": {},
   "source": [
    "Now let's try and remove stopwords."
   ]
  },
  {
   "cell_type": "code",
   "execution_count": 38,
   "metadata": {},
   "outputs": [],
   "source": [
    "from nltk.corpus import stopwords"
   ]
  },
  {
   "cell_type": "code",
   "execution_count": 40,
   "metadata": {},
   "outputs": [
    {
     "data": {
      "text/plain": [
       "['i',\n",
       " 'me',\n",
       " 'my',\n",
       " 'myself',\n",
       " 'we',\n",
       " 'our',\n",
       " 'ours',\n",
       " 'ourselves',\n",
       " 'you',\n",
       " \"you're\",\n",
       " \"you've\",\n",
       " \"you'll\",\n",
       " \"you'd\",\n",
       " 'your',\n",
       " 'yours',\n",
       " 'yourself',\n",
       " 'yourselves',\n",
       " 'he',\n",
       " 'him',\n",
       " 'his',\n",
       " 'himself',\n",
       " 'she',\n",
       " \"she's\",\n",
       " 'her',\n",
       " 'hers',\n",
       " 'herself',\n",
       " 'it',\n",
       " \"it's\",\n",
       " 'its',\n",
       " 'itself',\n",
       " 'they',\n",
       " 'them',\n",
       " 'their',\n",
       " 'theirs',\n",
       " 'themselves',\n",
       " 'what',\n",
       " 'which',\n",
       " 'who',\n",
       " 'whom',\n",
       " 'this',\n",
       " 'that',\n",
       " \"that'll\",\n",
       " 'these',\n",
       " 'those',\n",
       " 'am',\n",
       " 'is',\n",
       " 'are',\n",
       " 'was',\n",
       " 'were',\n",
       " 'be',\n",
       " 'been',\n",
       " 'being',\n",
       " 'have',\n",
       " 'has',\n",
       " 'had',\n",
       " 'having',\n",
       " 'do',\n",
       " 'does',\n",
       " 'did',\n",
       " 'doing',\n",
       " 'a',\n",
       " 'an',\n",
       " 'the',\n",
       " 'and',\n",
       " 'but',\n",
       " 'if',\n",
       " 'or',\n",
       " 'because',\n",
       " 'as',\n",
       " 'until',\n",
       " 'while',\n",
       " 'of',\n",
       " 'at',\n",
       " 'by',\n",
       " 'for',\n",
       " 'with',\n",
       " 'about',\n",
       " 'against',\n",
       " 'between',\n",
       " 'into',\n",
       " 'through',\n",
       " 'during',\n",
       " 'before',\n",
       " 'after',\n",
       " 'above',\n",
       " 'below',\n",
       " 'to',\n",
       " 'from',\n",
       " 'up',\n",
       " 'down',\n",
       " 'in',\n",
       " 'out',\n",
       " 'on',\n",
       " 'off',\n",
       " 'over',\n",
       " 'under',\n",
       " 'again',\n",
       " 'further',\n",
       " 'then',\n",
       " 'once',\n",
       " 'here',\n",
       " 'there',\n",
       " 'when',\n",
       " 'where',\n",
       " 'why',\n",
       " 'how',\n",
       " 'all',\n",
       " 'any',\n",
       " 'both',\n",
       " 'each',\n",
       " 'few',\n",
       " 'more',\n",
       " 'most',\n",
       " 'other',\n",
       " 'some',\n",
       " 'such',\n",
       " 'no',\n",
       " 'nor',\n",
       " 'not',\n",
       " 'only',\n",
       " 'own',\n",
       " 'same',\n",
       " 'so',\n",
       " 'than',\n",
       " 'too',\n",
       " 'very',\n",
       " 's',\n",
       " 't',\n",
       " 'can',\n",
       " 'will',\n",
       " 'just',\n",
       " 'don',\n",
       " \"don't\",\n",
       " 'should',\n",
       " \"should've\",\n",
       " 'now',\n",
       " 'd',\n",
       " 'll',\n",
       " 'm',\n",
       " 'o',\n",
       " 're',\n",
       " 've',\n",
       " 'y',\n",
       " 'ain',\n",
       " 'aren',\n",
       " \"aren't\",\n",
       " 'couldn',\n",
       " \"couldn't\",\n",
       " 'didn',\n",
       " \"didn't\",\n",
       " 'doesn',\n",
       " \"doesn't\",\n",
       " 'hadn',\n",
       " \"hadn't\",\n",
       " 'hasn',\n",
       " \"hasn't\",\n",
       " 'haven',\n",
       " \"haven't\",\n",
       " 'isn',\n",
       " \"isn't\",\n",
       " 'ma',\n",
       " 'mightn',\n",
       " \"mightn't\",\n",
       " 'mustn',\n",
       " \"mustn't\",\n",
       " 'needn',\n",
       " \"needn't\",\n",
       " 'shan',\n",
       " \"shan't\",\n",
       " 'shouldn',\n",
       " \"shouldn't\",\n",
       " 'wasn',\n",
       " \"wasn't\",\n",
       " 'weren',\n",
       " \"weren't\",\n",
       " 'won',\n",
       " \"won't\",\n",
       " 'wouldn',\n",
       " \"wouldn't\"]"
      ]
     },
     "execution_count": 40,
     "metadata": {},
     "output_type": "execute_result"
    }
   ],
   "source": [
    "list_stopwords = stopwords.words('english')\n",
    "list_stopwords"
   ]
  },
  {
   "cell_type": "code",
   "execution_count": 41,
   "metadata": {},
   "outputs": [
    {
     "data": {
      "text/plain": [
       "['example',\n",
       " 'sentence',\n",
       " 'try',\n",
       " 'remove',\n",
       " 'stopwords',\n",
       " 'try',\n",
       " 'remove',\n",
       " 'punctuation']"
      ]
     },
     "execution_count": 41,
     "metadata": {},
     "output_type": "execute_result"
    }
   ],
   "source": [
    "[word for word in remove_punctuation if not word in list_stopwords]"
   ]
  },
  {
   "cell_type": "code",
   "execution_count": 42,
   "metadata": {},
   "outputs": [],
   "source": [
    "example2 = \"Sarah and Ira drove to the store. Jenny and I opened all the gifts. The cat and dog ate. My parents and I went to a movie. Mrs. Juarez and Mr. Smith are dancing gracefully. Samantha, Elizabeth, and Joan are on the committee. The ham, green beans, mashed potatoes, and corn are gluten-free. The paper and pencil sat idle on the desk.\""
   ]
  },
  {
   "cell_type": "markdown",
   "metadata": {},
   "source": [
    "WordNetLemmatizer is a tool for lemmatizing words, i.e. reducing a word to its root form."
   ]
  },
  {
   "cell_type": "code",
   "execution_count": 46,
   "metadata": {},
   "outputs": [],
   "source": [
    "from nltk.stem import WordNetLemmatizer"
   ]
  },
  {
   "cell_type": "code",
   "execution_count": 56,
   "metadata": {},
   "outputs": [],
   "source": [
    "WNL = WordNetLemmatizer()"
   ]
  },
  {
   "cell_type": "code",
   "execution_count": 73,
   "metadata": {},
   "outputs": [
    {
     "data": {
      "text/plain": [
       "'foot'"
      ]
     },
     "execution_count": 73,
     "metadata": {},
     "output_type": "execute_result"
    }
   ],
   "source": [
    "WNL.lemmatize('feet')"
   ]
  },
  {
   "cell_type": "code",
   "execution_count": 58,
   "metadata": {},
   "outputs": [
    {
     "data": {
      "text/plain": [
       "'wolf'"
      ]
     },
     "execution_count": 58,
     "metadata": {},
     "output_type": "execute_result"
    }
   ],
   "source": [
    "WNL.lemmatize('wolves')"
   ]
  },
  {
   "cell_type": "code",
   "execution_count": 71,
   "metadata": {},
   "outputs": [
    {
     "data": {
      "text/plain": [
       "['Sarah',\n",
       " 'and',\n",
       " 'Ira',\n",
       " 'drove',\n",
       " 'to',\n",
       " 'the',\n",
       " 'store',\n",
       " '.',\n",
       " 'Jenny',\n",
       " 'and',\n",
       " 'I',\n",
       " 'opened',\n",
       " 'all',\n",
       " 'the',\n",
       " 'gifts',\n",
       " '.',\n",
       " 'The',\n",
       " 'cat',\n",
       " 'and',\n",
       " 'dog',\n",
       " 'ate',\n",
       " '.',\n",
       " 'My',\n",
       " 'parents',\n",
       " 'and',\n",
       " 'I',\n",
       " 'went',\n",
       " 'to',\n",
       " 'a',\n",
       " 'movie',\n",
       " '.',\n",
       " 'Mrs.',\n",
       " 'Juarez',\n",
       " 'and',\n",
       " 'Mr.',\n",
       " 'Smith',\n",
       " 'are',\n",
       " 'dancing',\n",
       " 'gracefully',\n",
       " '.',\n",
       " 'Samantha',\n",
       " ',',\n",
       " 'Elizabeth',\n",
       " ',',\n",
       " 'and',\n",
       " 'Joan',\n",
       " 'are',\n",
       " 'on',\n",
       " 'the',\n",
       " 'committee',\n",
       " '.',\n",
       " 'The',\n",
       " 'ham',\n",
       " ',',\n",
       " 'green',\n",
       " 'beans',\n",
       " ',',\n",
       " 'mashed',\n",
       " 'potatoes',\n",
       " ',',\n",
       " 'and',\n",
       " 'corn',\n",
       " 'are',\n",
       " 'gluten-free',\n",
       " '.',\n",
       " 'The',\n",
       " 'paper',\n",
       " 'and',\n",
       " 'pencil',\n",
       " 'sat',\n",
       " 'idle',\n",
       " 'on',\n",
       " 'the',\n",
       " 'desk',\n",
       " '.']"
      ]
     },
     "execution_count": 71,
     "metadata": {},
     "output_type": "execute_result"
    }
   ],
   "source": [
    "example2_words = word_tokenize(example2)\n",
    "example2_words"
   ]
  },
  {
   "cell_type": "code",
   "execution_count": 72,
   "metadata": {},
   "outputs": [
    {
     "data": {
      "text/plain": [
       "['Sarah',\n",
       " 'and',\n",
       " 'Ira',\n",
       " 'drove',\n",
       " 'to',\n",
       " 'the',\n",
       " 'store',\n",
       " '.',\n",
       " 'Jenny',\n",
       " 'and',\n",
       " 'I',\n",
       " 'opened',\n",
       " 'all',\n",
       " 'the',\n",
       " 'gift',\n",
       " '.',\n",
       " 'The',\n",
       " 'cat',\n",
       " 'and',\n",
       " 'dog',\n",
       " 'ate',\n",
       " '.',\n",
       " 'My',\n",
       " 'parent',\n",
       " 'and',\n",
       " 'I',\n",
       " 'went',\n",
       " 'to',\n",
       " 'a',\n",
       " 'movie',\n",
       " '.',\n",
       " 'Mrs.',\n",
       " 'Juarez',\n",
       " 'and',\n",
       " 'Mr.',\n",
       " 'Smith',\n",
       " 'are',\n",
       " 'dancing',\n",
       " 'gracefully',\n",
       " '.',\n",
       " 'Samantha',\n",
       " ',',\n",
       " 'Elizabeth',\n",
       " ',',\n",
       " 'and',\n",
       " 'Joan',\n",
       " 'are',\n",
       " 'on',\n",
       " 'the',\n",
       " 'committee',\n",
       " '.',\n",
       " 'The',\n",
       " 'ham',\n",
       " ',',\n",
       " 'green',\n",
       " 'bean',\n",
       " ',',\n",
       " 'mashed',\n",
       " 'potato',\n",
       " ',',\n",
       " 'and',\n",
       " 'corn',\n",
       " 'are',\n",
       " 'gluten-free',\n",
       " '.',\n",
       " 'The',\n",
       " 'paper',\n",
       " 'and',\n",
       " 'pencil',\n",
       " 'sat',\n",
       " 'idle',\n",
       " 'on',\n",
       " 'the',\n",
       " 'desk',\n",
       " '.']"
      ]
     },
     "execution_count": 72,
     "metadata": {},
     "output_type": "execute_result"
    }
   ],
   "source": [
    "[WNL.lemmatize(word) for word in example2_words]"
   ]
  },
  {
   "cell_type": "code",
   "execution_count": null,
   "metadata": {},
   "outputs": [],
   "source": []
  }
 ],
 "metadata": {
  "kernelspec": {
   "display_name": "Python 3",
   "language": "python",
   "name": "python3"
  },
  "language_info": {
   "codemirror_mode": {
    "name": "ipython",
    "version": 3
   },
   "file_extension": ".py",
   "mimetype": "text/x-python",
   "name": "python",
   "nbconvert_exporter": "python",
   "pygments_lexer": "ipython3",
   "version": "3.7.4"
  }
 },
 "nbformat": 4,
 "nbformat_minor": 2
}
